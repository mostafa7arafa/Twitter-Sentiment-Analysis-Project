{
 "cells": [
  {
   "cell_type": "markdown",
   "id": "a5fe29d3",
   "metadata": {
    "papermill": {
     "duration": 0.009025,
     "end_time": "2025-08-27T03:46:18.575151",
     "exception": false,
     "start_time": "2025-08-27T03:46:18.566126",
     "status": "completed"
    },
    "tags": []
   },
   "source": [
    "# Import needed libraries"
   ]
  },
  {
   "cell_type": "code",
   "execution_count": 1,
   "id": "37a4edaa",
   "metadata": {
    "_cell_guid": "b1076dfc-b9ad-4769-8c92-a6c4dae69d19",
    "_uuid": "8f2839f25d086af736a60e9eeb907d3b93b6e0e5",
    "execution": {
     "iopub.execute_input": "2025-08-27T03:46:18.593076Z",
     "iopub.status.busy": "2025-08-27T03:46:18.592104Z",
     "iopub.status.idle": "2025-08-27T03:46:22.571205Z",
     "shell.execute_reply": "2025-08-27T03:46:22.570482Z"
    },
    "papermill": {
     "duration": 3.989639,
     "end_time": "2025-08-27T03:46:22.572824",
     "exception": false,
     "start_time": "2025-08-27T03:46:18.583185",
     "status": "completed"
    },
    "tags": []
   },
   "outputs": [],
   "source": [
    "import pandas as pd\n",
    "import numpy as np\n",
    "import matplotlib.pyplot as plt\n",
    "import seaborn as sns\n",
    "\n",
    "import nltk"
   ]
  },
  {
   "cell_type": "markdown",
   "id": "c020d36a",
   "metadata": {
    "papermill": {
     "duration": 0.007939,
     "end_time": "2025-08-27T03:46:22.588302",
     "exception": false,
     "start_time": "2025-08-27T03:46:22.580363",
     "status": "completed"
    },
    "tags": []
   },
   "source": [
    "# EDA"
   ]
  },
  {
   "cell_type": "code",
   "execution_count": 2,
   "id": "5f84279b",
   "metadata": {
    "execution": {
     "iopub.execute_input": "2025-08-27T03:46:22.604515Z",
     "iopub.status.busy": "2025-08-27T03:46:22.603541Z",
     "iopub.status.idle": "2025-08-27T03:46:29.022990Z",
     "shell.execute_reply": "2025-08-27T03:46:29.022076Z"
    },
    "papermill": {
     "duration": 6.428878,
     "end_time": "2025-08-27T03:46:29.024304",
     "exception": false,
     "start_time": "2025-08-27T03:46:22.595426",
     "status": "completed"
    },
    "tags": []
   },
   "outputs": [
    {
     "data": {
      "text/html": [
       "<div>\n",
       "<style scoped>\n",
       "    .dataframe tbody tr th:only-of-type {\n",
       "        vertical-align: middle;\n",
       "    }\n",
       "\n",
       "    .dataframe tbody tr th {\n",
       "        vertical-align: top;\n",
       "    }\n",
       "\n",
       "    .dataframe thead th {\n",
       "        text-align: right;\n",
       "    }\n",
       "</style>\n",
       "<table border=\"1\" class=\"dataframe\">\n",
       "  <thead>\n",
       "    <tr style=\"text-align: right;\">\n",
       "      <th></th>\n",
       "      <th>target</th>\n",
       "      <th>ID</th>\n",
       "      <th>date</th>\n",
       "      <th>flag</th>\n",
       "      <th>user</th>\n",
       "      <th>text</th>\n",
       "    </tr>\n",
       "  </thead>\n",
       "  <tbody>\n",
       "    <tr>\n",
       "      <th>0</th>\n",
       "      <td>0</td>\n",
       "      <td>1467810369</td>\n",
       "      <td>Mon Apr 06 22:19:45 PDT 2009</td>\n",
       "      <td>NO_QUERY</td>\n",
       "      <td>_TheSpecialOne_</td>\n",
       "      <td>@switchfoot http://twitpic.com/2y1zl - Awww, t...</td>\n",
       "    </tr>\n",
       "    <tr>\n",
       "      <th>1</th>\n",
       "      <td>0</td>\n",
       "      <td>1467810672</td>\n",
       "      <td>Mon Apr 06 22:19:49 PDT 2009</td>\n",
       "      <td>NO_QUERY</td>\n",
       "      <td>scotthamilton</td>\n",
       "      <td>is upset that he can't update his Facebook by ...</td>\n",
       "    </tr>\n",
       "    <tr>\n",
       "      <th>2</th>\n",
       "      <td>0</td>\n",
       "      <td>1467810917</td>\n",
       "      <td>Mon Apr 06 22:19:53 PDT 2009</td>\n",
       "      <td>NO_QUERY</td>\n",
       "      <td>mattycus</td>\n",
       "      <td>@Kenichan I dived many times for the ball. Man...</td>\n",
       "    </tr>\n",
       "    <tr>\n",
       "      <th>3</th>\n",
       "      <td>0</td>\n",
       "      <td>1467811184</td>\n",
       "      <td>Mon Apr 06 22:19:57 PDT 2009</td>\n",
       "      <td>NO_QUERY</td>\n",
       "      <td>ElleCTF</td>\n",
       "      <td>my whole body feels itchy and like its on fire</td>\n",
       "    </tr>\n",
       "    <tr>\n",
       "      <th>4</th>\n",
       "      <td>0</td>\n",
       "      <td>1467811193</td>\n",
       "      <td>Mon Apr 06 22:19:57 PDT 2009</td>\n",
       "      <td>NO_QUERY</td>\n",
       "      <td>Karoli</td>\n",
       "      <td>@nationwideclass no, it's not behaving at all....</td>\n",
       "    </tr>\n",
       "  </tbody>\n",
       "</table>\n",
       "</div>"
      ],
      "text/plain": [
       "   target          ID                          date      flag  \\\n",
       "0       0  1467810369  Mon Apr 06 22:19:45 PDT 2009  NO_QUERY   \n",
       "1       0  1467810672  Mon Apr 06 22:19:49 PDT 2009  NO_QUERY   \n",
       "2       0  1467810917  Mon Apr 06 22:19:53 PDT 2009  NO_QUERY   \n",
       "3       0  1467811184  Mon Apr 06 22:19:57 PDT 2009  NO_QUERY   \n",
       "4       0  1467811193  Mon Apr 06 22:19:57 PDT 2009  NO_QUERY   \n",
       "\n",
       "              user                                               text  \n",
       "0  _TheSpecialOne_  @switchfoot http://twitpic.com/2y1zl - Awww, t...  \n",
       "1    scotthamilton  is upset that he can't update his Facebook by ...  \n",
       "2         mattycus  @Kenichan I dived many times for the ball. Man...  \n",
       "3          ElleCTF    my whole body feels itchy and like its on fire   \n",
       "4           Karoli  @nationwideclass no, it's not behaving at all....  "
      ]
     },
     "execution_count": 2,
     "metadata": {},
     "output_type": "execute_result"
    }
   ],
   "source": [
    "df = pd.read_csv('/kaggle/input/sentiment140/training.1600000.processed.noemoticon.csv', encoding='latin-1', header = None, names = ['target', 'ID', 'date', 'flag','user','text'])\n",
    "# I tried exploring the data without adding the encoding part\n",
    "# it has thrown an error which made me change the encoding\n",
    "df.head(5)"
   ]
  },
  {
   "cell_type": "code",
   "execution_count": 3,
   "id": "35392f7f",
   "metadata": {
    "execution": {
     "iopub.execute_input": "2025-08-27T03:46:29.041087Z",
     "iopub.status.busy": "2025-08-27T03:46:29.040815Z",
     "iopub.status.idle": "2025-08-27T03:46:29.045984Z",
     "shell.execute_reply": "2025-08-27T03:46:29.045304Z"
    },
    "papermill": {
     "duration": 0.015086,
     "end_time": "2025-08-27T03:46:29.047265",
     "exception": false,
     "start_time": "2025-08-27T03:46:29.032179",
     "status": "completed"
    },
    "tags": []
   },
   "outputs": [
    {
     "data": {
      "text/plain": [
       "(1600000, 6)"
      ]
     },
     "execution_count": 3,
     "metadata": {},
     "output_type": "execute_result"
    }
   ],
   "source": [
    "df.shape"
   ]
  },
  {
   "cell_type": "code",
   "execution_count": 4,
   "id": "f7d02dd6",
   "metadata": {
    "execution": {
     "iopub.execute_input": "2025-08-27T03:46:29.063638Z",
     "iopub.status.busy": "2025-08-27T03:46:29.063169Z",
     "iopub.status.idle": "2025-08-27T03:46:29.428502Z",
     "shell.execute_reply": "2025-08-27T03:46:29.427471Z"
    },
    "papermill": {
     "duration": 0.375007,
     "end_time": "2025-08-27T03:46:29.429991",
     "exception": false,
     "start_time": "2025-08-27T03:46:29.054984",
     "status": "completed"
    },
    "tags": []
   },
   "outputs": [
    {
     "name": "stdout",
     "output_type": "stream",
     "text": [
      "<class 'pandas.core.frame.DataFrame'>\n",
      "RangeIndex: 1600000 entries, 0 to 1599999\n",
      "Data columns (total 6 columns):\n",
      " #   Column  Non-Null Count    Dtype \n",
      "---  ------  --------------    ----- \n",
      " 0   target  1600000 non-null  int64 \n",
      " 1   ID      1600000 non-null  int64 \n",
      " 2   date    1600000 non-null  object\n",
      " 3   flag    1600000 non-null  object\n",
      " 4   user    1600000 non-null  object\n",
      " 5   text    1600000 non-null  object\n",
      "dtypes: int64(2), object(4)\n",
      "memory usage: 73.2+ MB\n"
     ]
    }
   ],
   "source": [
    "df.info()"
   ]
  },
  {
   "cell_type": "markdown",
   "id": "8ee3dbd2",
   "metadata": {
    "papermill": {
     "duration": 0.007885,
     "end_time": "2025-08-27T03:46:29.446025",
     "exception": false,
     "start_time": "2025-08-27T03:46:29.438140",
     "status": "completed"
    },
    "tags": []
   },
   "source": [
    "## Check for missing values"
   ]
  },
  {
   "cell_type": "code",
   "execution_count": 5,
   "id": "5cb79a78",
   "metadata": {
    "execution": {
     "iopub.execute_input": "2025-08-27T03:46:29.462677Z",
     "iopub.status.busy": "2025-08-27T03:46:29.462155Z",
     "iopub.status.idle": "2025-08-27T03:46:29.816741Z",
     "shell.execute_reply": "2025-08-27T03:46:29.815808Z"
    },
    "papermill": {
     "duration": 0.364422,
     "end_time": "2025-08-27T03:46:29.818160",
     "exception": false,
     "start_time": "2025-08-27T03:46:29.453738",
     "status": "completed"
    },
    "tags": []
   },
   "outputs": [
    {
     "data": {
      "text/plain": [
       "target    0\n",
       "ID        0\n",
       "date      0\n",
       "flag      0\n",
       "user      0\n",
       "text      0\n",
       "dtype: int64"
      ]
     },
     "execution_count": 5,
     "metadata": {},
     "output_type": "execute_result"
    }
   ],
   "source": [
    "df.isna().sum()"
   ]
  },
  {
   "cell_type": "markdown",
   "id": "ba4ffe81",
   "metadata": {
    "papermill": {
     "duration": 0.008227,
     "end_time": "2025-08-27T03:46:29.835111",
     "exception": false,
     "start_time": "2025-08-27T03:46:29.826884",
     "status": "completed"
    },
    "tags": []
   },
   "source": [
    "## Check duplicates"
   ]
  },
  {
   "cell_type": "code",
   "execution_count": 6,
   "id": "331d46fb",
   "metadata": {
    "execution": {
     "iopub.execute_input": "2025-08-27T03:46:29.852870Z",
     "iopub.status.busy": "2025-08-27T03:46:29.852136Z",
     "iopub.status.idle": "2025-08-27T03:46:31.645924Z",
     "shell.execute_reply": "2025-08-27T03:46:31.645136Z"
    },
    "papermill": {
     "duration": 1.804137,
     "end_time": "2025-08-27T03:46:31.647612",
     "exception": false,
     "start_time": "2025-08-27T03:46:29.843475",
     "status": "completed"
    },
    "tags": []
   },
   "outputs": [
    {
     "data": {
      "text/plain": [
       "0"
      ]
     },
     "execution_count": 6,
     "metadata": {},
     "output_type": "execute_result"
    }
   ],
   "source": [
    "df.duplicated().sum()"
   ]
  },
  {
   "cell_type": "markdown",
   "id": "2fdad4a0",
   "metadata": {
    "papermill": {
     "duration": 0.008529,
     "end_time": "2025-08-27T03:46:31.665327",
     "exception": false,
     "start_time": "2025-08-27T03:46:31.656798",
     "status": "completed"
    },
    "tags": []
   },
   "source": [
    "## Start visualizing"
   ]
  },
  {
   "cell_type": "code",
   "execution_count": 7,
   "id": "cc186a35",
   "metadata": {
    "execution": {
     "iopub.execute_input": "2025-08-27T03:46:31.683588Z",
     "iopub.status.busy": "2025-08-27T03:46:31.683257Z",
     "iopub.status.idle": "2025-08-27T03:46:31.700484Z",
     "shell.execute_reply": "2025-08-27T03:46:31.699710Z"
    },
    "papermill": {
     "duration": 0.027716,
     "end_time": "2025-08-27T03:46:31.701737",
     "exception": false,
     "start_time": "2025-08-27T03:46:31.674021",
     "status": "completed"
    },
    "tags": []
   },
   "outputs": [
    {
     "data": {
      "text/plain": [
       "target\n",
       "0    800000\n",
       "4    800000\n",
       "Name: count, dtype: int64"
      ]
     },
     "execution_count": 7,
     "metadata": {},
     "output_type": "execute_result"
    }
   ],
   "source": [
    "df['target'].value_counts()"
   ]
  },
  {
   "cell_type": "markdown",
   "id": "53e33671",
   "metadata": {
    "papermill": {
     "duration": 0.007497,
     "end_time": "2025-08-27T03:46:31.717059",
     "exception": false,
     "start_time": "2025-08-27T03:46:31.709562",
     "status": "completed"
    },
    "tags": []
   },
   "source": [
    "*The dataset are equally distributed*\n",
    "\n",
    "but note: their are no nautral (2) in the dataset"
   ]
  },
  {
   "cell_type": "code",
   "execution_count": 8,
   "id": "c608ac58",
   "metadata": {
    "execution": {
     "iopub.execute_input": "2025-08-27T03:46:31.733888Z",
     "iopub.status.busy": "2025-08-27T03:46:31.733623Z",
     "iopub.status.idle": "2025-08-27T03:46:32.148770Z",
     "shell.execute_reply": "2025-08-27T03:46:32.147837Z"
    },
    "papermill": {
     "duration": 0.425182,
     "end_time": "2025-08-27T03:46:32.150240",
     "exception": false,
     "start_time": "2025-08-27T03:46:31.725058",
     "status": "completed"
    },
    "tags": []
   },
   "outputs": [
    {
     "data": {
      "image/png": "[encoded data removed]",
      "text/plain": [
       "<Figure size 640x480 with 1 Axes>"
      ]
     },
     "metadata": {},
     "output_type": "display_data"
    }
   ],
   "source": [
    "df['target'].map({0: 'Negative', 4: 'Positive'}).value_counts().plot(\n",
    "    kind=\"bar\", \n",
    "    title=\"Sentiment Distribution\"\n",
    ")\n",
    "plt.xlabel(\"Sentiment Class\")\n",
    "plt.ylabel(\"Number of Tweets\")\n",
    "plt.show()"
   ]
  },
  {
   "cell_type": "code",
   "execution_count": 9,
   "id": "02d96569",
   "metadata": {
    "execution": {
     "iopub.execute_input": "2025-08-27T03:46:32.168303Z",
     "iopub.status.busy": "2025-08-27T03:46:32.168060Z",
     "iopub.status.idle": "2025-08-27T03:46:32.172850Z",
     "shell.execute_reply": "2025-08-27T03:46:32.171962Z"
    },
    "papermill": {
     "duration": 0.015002,
     "end_time": "2025-08-27T03:46:32.173890",
     "exception": false,
     "start_time": "2025-08-27T03:46:32.158888",
     "status": "completed"
    },
    "tags": []
   },
   "outputs": [
    {
     "name": "stdout",
     "output_type": "stream",
     "text": [
      "spring break in plain city... it's snowing \n",
      "Target:  0\n"
     ]
    }
   ],
   "source": [
    "##example of the tweets\n",
    "example = df[\"text\"][10]\n",
    "print(example)\n",
    "print(\"Target: \", df['target'][10])"
   ]
  },
  {
   "cell_type": "code",
   "execution_count": 10,
   "id": "d99009ba",
   "metadata": {
    "execution": {
     "iopub.execute_input": "2025-08-27T03:46:32.246739Z",
     "iopub.status.busy": "2025-08-27T03:46:32.246423Z",
     "iopub.status.idle": "2025-08-27T03:46:34.033657Z",
     "shell.execute_reply": "2025-08-27T03:46:34.032871Z"
    },
    "papermill": {
     "duration": 1.798773,
     "end_time": "2025-08-27T03:46:34.035390",
     "exception": false,
     "start_time": "2025-08-27T03:46:32.236617",
     "status": "completed"
    },
    "tags": []
   },
   "outputs": [
    {
     "data": {
      "text/html": [
       "<div>\n",
       "<style scoped>\n",
       "    .dataframe tbody tr th:only-of-type {\n",
       "        vertical-align: middle;\n",
       "    }\n",
       "\n",
       "    .dataframe tbody tr th {\n",
       "        vertical-align: top;\n",
       "    }\n",
       "\n",
       "    .dataframe thead th {\n",
       "        text-align: right;\n",
       "    }\n",
       "</style>\n",
       "<table border=\"1\" class=\"dataframe\">\n",
       "  <thead>\n",
       "    <tr style=\"text-align: right;\">\n",
       "      <th></th>\n",
       "      <th>target</th>\n",
       "      <th>ID</th>\n",
       "      <th>date</th>\n",
       "      <th>flag</th>\n",
       "      <th>user</th>\n",
       "      <th>text</th>\n",
       "      <th>tweet_word_length</th>\n",
       "    </tr>\n",
       "  </thead>\n",
       "  <tbody>\n",
       "    <tr>\n",
       "      <th>0</th>\n",
       "      <td>0</td>\n",
       "      <td>1467810369</td>\n",
       "      <td>Mon Apr 06 22:19:45 PDT 2009</td>\n",
       "      <td>NO_QUERY</td>\n",
       "      <td>_TheSpecialOne_</td>\n",
       "      <td>@switchfoot http://twitpic.com/2y1zl - Awww, t...</td>\n",
       "      <td>19</td>\n",
       "    </tr>\n",
       "    <tr>\n",
       "      <th>1</th>\n",
       "      <td>0</td>\n",
       "      <td>1467810672</td>\n",
       "      <td>Mon Apr 06 22:19:49 PDT 2009</td>\n",
       "      <td>NO_QUERY</td>\n",
       "      <td>scotthamilton</td>\n",
       "      <td>is upset that he can't update his Facebook by ...</td>\n",
       "      <td>21</td>\n",
       "    </tr>\n",
       "    <tr>\n",
       "      <th>2</th>\n",
       "      <td>0</td>\n",
       "      <td>1467810917</td>\n",
       "      <td>Mon Apr 06 22:19:53 PDT 2009</td>\n",
       "      <td>NO_QUERY</td>\n",
       "      <td>mattycus</td>\n",
       "      <td>@Kenichan I dived many times for the ball. Man...</td>\n",
       "      <td>18</td>\n",
       "    </tr>\n",
       "    <tr>\n",
       "      <th>3</th>\n",
       "      <td>0</td>\n",
       "      <td>1467811184</td>\n",
       "      <td>Mon Apr 06 22:19:57 PDT 2009</td>\n",
       "      <td>NO_QUERY</td>\n",
       "      <td>ElleCTF</td>\n",
       "      <td>my whole body feels itchy and like its on fire</td>\n",
       "      <td>10</td>\n",
       "    </tr>\n",
       "    <tr>\n",
       "      <th>4</th>\n",
       "      <td>0</td>\n",
       "      <td>1467811193</td>\n",
       "      <td>Mon Apr 06 22:19:57 PDT 2009</td>\n",
       "      <td>NO_QUERY</td>\n",
       "      <td>Karoli</td>\n",
       "      <td>@nationwideclass no, it's not behaving at all....</td>\n",
       "      <td>21</td>\n",
       "    </tr>\n",
       "  </tbody>\n",
       "</table>\n",
       "</div>"
      ],
      "text/plain": [
       "   target          ID                          date      flag  \\\n",
       "0       0  1467810369  Mon Apr 06 22:19:45 PDT 2009  NO_QUERY   \n",
       "1       0  1467810672  Mon Apr 06 22:19:49 PDT 2009  NO_QUERY   \n",
       "2       0  1467810917  Mon Apr 06 22:19:53 PDT 2009  NO_QUERY   \n",
       "3       0  1467811184  Mon Apr 06 22:19:57 PDT 2009  NO_QUERY   \n",
       "4       0  1467811193  Mon Apr 06 22:19:57 PDT 2009  NO_QUERY   \n",
       "\n",
       "              user                                               text  \\\n",
       "0  _TheSpecialOne_  @switchfoot http://twitpic.com/2y1zl - Awww, t...   \n",
       "1    scotthamilton  is upset that he can't update his Facebook by ...   \n",
       "2         mattycus  @Kenichan I dived many times for the ball. Man...   \n",
       "3          ElleCTF    my whole body feels itchy and like its on fire    \n",
       "4           Karoli  @nationwideclass no, it's not behaving at all....   \n",
       "\n",
       "   tweet_word_length  \n",
       "0                 19  \n",
       "1                 21  \n",
       "2                 18  \n",
       "3                 10  \n",
       "4                 21  "
      ]
     },
     "execution_count": 10,
     "metadata": {},
     "output_type": "execute_result"
    }
   ],
   "source": [
    "df['tweet_word_length'] = df['text'].apply(lambda x: len(x.split()))\n",
    "df.head()"
   ]
  },
  {
   "cell_type": "code",
   "execution_count": 11,
   "id": "816e7a91",
   "metadata": {
    "execution": {
     "iopub.execute_input": "2025-08-27T03:46:34.058143Z",
     "iopub.status.busy": "2025-08-27T03:46:34.057854Z",
     "iopub.status.idle": "2025-08-27T03:46:34.341862Z",
     "shell.execute_reply": "2025-08-27T03:46:34.340975Z"
    },
    "papermill": {
     "duration": 0.296235,
     "end_time": "2025-08-27T03:46:34.343137",
     "exception": false,
     "start_time": "2025-08-27T03:46:34.046902",
     "status": "completed"
    },
    "tags": []
   },
   "outputs": [
    {
     "data": {
      "image/png": "[encoded data removed]",
      "text/plain": [
       "<Figure size 640x480 with 1 Axes>"
      ]
     },
     "metadata": {},
     "output_type": "display_data"
    }
   ],
   "source": [
    "df[\"tweet_word_length\"].plot(\n",
    "    kind=\"hist\", \n",
    "    bins=30, \n",
    "    title=\"Distribution of Tweet Word Counts\"\n",
    ")\n",
    "plt.xlabel(\"Number of Words\")\n",
    "plt.ylabel(\"Number of Tweets\")\n",
    "plt.show()"
   ]
  },
  {
   "cell_type": "code",
   "execution_count": 12,
   "id": "89bf46f1",
   "metadata": {
    "execution": {
     "iopub.execute_input": "2025-08-27T03:46:34.363622Z",
     "iopub.status.busy": "2025-08-27T03:46:34.363239Z",
     "iopub.status.idle": "2025-08-27T03:46:34.716826Z",
     "shell.execute_reply": "2025-08-27T03:46:34.716023Z"
    },
    "papermill": {
     "duration": 0.365268,
     "end_time": "2025-08-27T03:46:34.718102",
     "exception": false,
     "start_time": "2025-08-27T03:46:34.352834",
     "status": "completed"
    },
    "tags": []
   },
   "outputs": [
    {
     "data": {
      "image/png": "[encoded data removed]",
      "text/plain": [
       "<Figure size 640x480 with 1 Axes>"
      ]
     },
     "metadata": {},
     "output_type": "display_data"
    }
   ],
   "source": [
    "import seaborn as sns\n",
    "\n",
    "sns.boxplot(x=df[\"target\"], y=df[\"tweet_word_length\"])\n",
    "plt.xlabel(\"Sentiment Class (0 = Negative, 4 = Positive)\")\n",
    "plt.ylabel(\"Tweet Word Count\")\n",
    "plt.title(\"Tweet Word Count Distribution by Sentiment\")\n",
    "plt.show()"
   ]
  },
  {
   "cell_type": "markdown",
   "id": "dacc0898",
   "metadata": {
    "papermill": {
     "duration": 0.010069,
     "end_time": "2025-08-27T03:46:34.738771",
     "exception": false,
     "start_time": "2025-08-27T03:46:34.728702",
     "status": "completed"
    },
    "tags": []
   },
   "source": [
    "### Using Boxplot to compare Between Classes\n",
    "\n",
    "* Both negative (0) and positive (4) distributions look very similar.\n",
    "\n",
    "* Median almost the same.\n",
    "\n",
    "* Spread nearly identical.\n",
    "\n",
    "* Outliers on both sides go up to ~60 words.\n",
    "\n",
    "👉 Interpretation: tweet length does not differ much by sentiment in this dataset.\n",
    "So length is not a strong predictor of sentiment here."
   ]
  },
  {
   "cell_type": "code",
   "execution_count": 13,
   "id": "61d27ea6",
   "metadata": {
    "execution": {
     "iopub.execute_input": "2025-08-27T03:46:34.759573Z",
     "iopub.status.busy": "2025-08-27T03:46:34.759056Z",
     "iopub.status.idle": "2025-08-27T03:46:34.768485Z",
     "shell.execute_reply": "2025-08-27T03:46:34.767683Z"
    },
    "papermill": {
     "duration": 0.021368,
     "end_time": "2025-08-27T03:46:34.769713",
     "exception": false,
     "start_time": "2025-08-27T03:46:34.748345",
     "status": "completed"
    },
    "tags": []
   },
   "outputs": [
    {
     "name": "stdout",
     "output_type": "stream",
     "text": [
      "Is the saddest zornes ever thanks to the magic ( :  ( :  ( :  ( :  ( :  (  :  ( :  ( :  ( :  ( :  ( :  ( :  ( :  ( :  ( :  ( :  ( :   ...\n",
      "Target: 0\n"
     ]
    }
   ],
   "source": [
    "#explore the outliers\n",
    "\n",
    "outliers = df[df[\"tweet_word_length\"] > 40]\n",
    "print(outliers[\"text\"].iloc[0])\n",
    "print(\"Target:\",outliers[\"target\"].iloc[0])"
   ]
  },
  {
   "cell_type": "code",
   "execution_count": 14,
   "id": "3294b282",
   "metadata": {
    "execution": {
     "iopub.execute_input": "2025-08-27T03:46:34.791243Z",
     "iopub.status.busy": "2025-08-27T03:46:34.790977Z",
     "iopub.status.idle": "2025-08-27T03:46:34.800777Z",
     "shell.execute_reply": "2025-08-27T03:46:34.799912Z"
    },
    "papermill": {
     "duration": 0.022056,
     "end_time": "2025-08-27T03:46:34.802182",
     "exception": false,
     "start_time": "2025-08-27T03:46:34.780126",
     "status": "completed"
    },
    "tags": []
   },
   "outputs": [
    {
     "data": {
      "text/html": [
       "<div>\n",
       "<style scoped>\n",
       "    .dataframe tbody tr th:only-of-type {\n",
       "        vertical-align: middle;\n",
       "    }\n",
       "\n",
       "    .dataframe tbody tr th {\n",
       "        vertical-align: top;\n",
       "    }\n",
       "\n",
       "    .dataframe thead th {\n",
       "        text-align: right;\n",
       "    }\n",
       "</style>\n",
       "<table border=\"1\" class=\"dataframe\">\n",
       "  <thead>\n",
       "    <tr style=\"text-align: right;\">\n",
       "      <th></th>\n",
       "      <th>target</th>\n",
       "      <th>ID</th>\n",
       "      <th>date</th>\n",
       "      <th>flag</th>\n",
       "      <th>user</th>\n",
       "      <th>text</th>\n",
       "      <th>tweet_word_length</th>\n",
       "    </tr>\n",
       "  </thead>\n",
       "  <tbody>\n",
       "    <tr>\n",
       "      <th>461028</th>\n",
       "      <td>0</td>\n",
       "      <td>2174350763</td>\n",
       "      <td>Sun Jun 14 22:22:19 PDT 2009</td>\n",
       "      <td>NO_QUERY</td>\n",
       "      <td>zorilla87</td>\n",
       "      <td>Is the saddest zornes ever thanks to the magic...</td>\n",
       "      <td>44</td>\n",
       "    </tr>\n",
       "    <tr>\n",
       "      <th>770356</th>\n",
       "      <td>0</td>\n",
       "      <td>2301963945</td>\n",
       "      <td>Tue Jun 23 16:09:03 PDT 2009</td>\n",
       "      <td>NO_QUERY</td>\n",
       "      <td>jessicajonassss</td>\n",
       "      <td>I'm so boreeeeed. . . . . . . . . . . . . . . ...</td>\n",
       "      <td>57</td>\n",
       "    </tr>\n",
       "    <tr>\n",
       "      <th>981534</th>\n",
       "      <td>4</td>\n",
       "      <td>1834123560</td>\n",
       "      <td>Mon May 18 01:43:09 PDT 2009</td>\n",
       "      <td>NO_QUERY</td>\n",
       "      <td>mythor</td>\n",
       "      <td>@ajayrochester DO IT DO IT DO IT DO IT DO IT D...</td>\n",
       "      <td>41</td>\n",
       "    </tr>\n",
       "    <tr>\n",
       "      <th>1006771</th>\n",
       "      <td>4</td>\n",
       "      <td>1880642552</td>\n",
       "      <td>Fri May 22 01:58:41 PDT 2009</td>\n",
       "      <td>NO_QUERY</td>\n",
       "      <td>dr_nigel</td>\n",
       "      <td>If E x N = 12, L + X = 4 and K-T = 1. What doe...</td>\n",
       "      <td>41</td>\n",
       "    </tr>\n",
       "    <tr>\n",
       "      <th>1079511</th>\n",
       "      <td>4</td>\n",
       "      <td>1968081246</td>\n",
       "      <td>Fri May 29 20:43:30 PDT 2009</td>\n",
       "      <td>NO_QUERY</td>\n",
       "      <td>girgely</td>\n",
       "      <td>? ? ? ? ? ? ? ? ? ? ? ? ? ? ? ? ? ? ?    ? ? ?...</td>\n",
       "      <td>58</td>\n",
       "    </tr>\n",
       "  </tbody>\n",
       "</table>\n",
       "</div>"
      ],
      "text/plain": [
       "         target          ID                          date      flag  \\\n",
       "461028        0  2174350763  Sun Jun 14 22:22:19 PDT 2009  NO_QUERY   \n",
       "770356        0  2301963945  Tue Jun 23 16:09:03 PDT 2009  NO_QUERY   \n",
       "981534        4  1834123560  Mon May 18 01:43:09 PDT 2009  NO_QUERY   \n",
       "1006771       4  1880642552  Fri May 22 01:58:41 PDT 2009  NO_QUERY   \n",
       "1079511       4  1968081246  Fri May 29 20:43:30 PDT 2009  NO_QUERY   \n",
       "\n",
       "                    user                                               text  \\\n",
       "461028         zorilla87  Is the saddest zornes ever thanks to the magic...   \n",
       "770356   jessicajonassss  I'm so boreeeeed. . . . . . . . . . . . . . . ...   \n",
       "981534            mythor  @ajayrochester DO IT DO IT DO IT DO IT DO IT D...   \n",
       "1006771         dr_nigel  If E x N = 12, L + X = 4 and K-T = 1. What doe...   \n",
       "1079511          girgely  ? ? ? ? ? ? ? ? ? ? ? ? ? ? ? ? ? ? ?    ? ? ?...   \n",
       "\n",
       "         tweet_word_length  \n",
       "461028                  44  \n",
       "770356                  57  \n",
       "981534                  41  \n",
       "1006771                 41  \n",
       "1079511                 58  "
      ]
     },
     "execution_count": 14,
     "metadata": {},
     "output_type": "execute_result"
    }
   ],
   "source": [
    "outliers.head()"
   ]
  },
  {
   "cell_type": "markdown",
   "id": "29f8050d",
   "metadata": {
    "papermill": {
     "duration": 0.009687,
     "end_time": "2025-08-27T03:46:34.822182",
     "exception": false,
     "start_time": "2025-08-27T03:46:34.812495",
     "status": "completed"
    },
    "tags": []
   },
   "source": [
    "# Data Cleaning"
   ]
  },
  {
   "cell_type": "markdown",
   "id": "65fff533",
   "metadata": {
    "papermill": {
     "duration": 0.010084,
     "end_time": "2025-08-27T03:46:34.842717",
     "exception": false,
     "start_time": "2025-08-27T03:46:34.832633",
     "status": "completed"
    },
    "tags": []
   },
   "source": [
    "### Our Steps:\n",
    "\n",
    "1. Lowercase\n",
    "\n",
    "2. Remove URLs\n",
    "\n",
    "3. Remove mentions (@user)\n",
    "\n",
    "4. remove the # but keep the word (e.g., #happy → happy)\n",
    "\n",
    "5. Remove special characters/punctuation\n",
    "\n",
    "6. Remove extra whitespace"
   ]
  },
  {
   "cell_type": "code",
   "execution_count": 15,
   "id": "f925e89f",
   "metadata": {
    "execution": {
     "iopub.execute_input": "2025-08-27T03:46:34.865537Z",
     "iopub.status.busy": "2025-08-27T03:46:34.864872Z",
     "iopub.status.idle": "2025-08-27T03:46:34.869601Z",
     "shell.execute_reply": "2025-08-27T03:46:34.868850Z"
    },
    "papermill": {
     "duration": 0.017675,
     "end_time": "2025-08-27T03:46:34.870836",
     "exception": false,
     "start_time": "2025-08-27T03:46:34.853161",
     "status": "completed"
    },
    "tags": []
   },
   "outputs": [],
   "source": [
    "import re\n",
    "\n",
    "def clean_tweet(text):\n",
    "    #lower case\n",
    "    text = text.lower()\n",
    "\n",
    "    #remove URLs\n",
    "    text = re.sub(r'http\\S+|www+\\S+','',text)\n",
    "\n",
    "    #remove mentions\n",
    "    text = re.sub(r'@\\w+','',text)\n",
    "\n",
    "    #handle hushtags\n",
    "    text = re.sub(r'#\\w+', '', text)\n",
    "\n",
    "    #remove non-alphanumeric characters (except spaces)\n",
    "    text = re.sub(r'[^a-z0-9\\s]', '', text)\n",
    "\n",
    "    #remove extra whitespaces\n",
    "    text = re.sub(r'\\s+', ' ', text).strip()\n",
    "\n",
    "    return text"
   ]
  },
  {
   "cell_type": "code",
   "execution_count": 16,
   "id": "8a9910b3",
   "metadata": {
    "execution": {
     "iopub.execute_input": "2025-08-27T03:46:34.892561Z",
     "iopub.status.busy": "2025-08-27T03:46:34.892052Z",
     "iopub.status.idle": "2025-08-27T03:46:34.896909Z",
     "shell.execute_reply": "2025-08-27T03:46:34.896256Z"
    },
    "papermill": {
     "duration": 0.016789,
     "end_time": "2025-08-27T03:46:34.897947",
     "exception": false,
     "start_time": "2025-08-27T03:46:34.881158",
     "status": "completed"
    },
    "tags": []
   },
   "outputs": [
    {
     "name": "stdout",
     "output_type": "stream",
     "text": [
      "Before Cleaning:\n",
      "\n",
      "Is the saddest zornes ever thanks to the magic ( :  ( :  ( :  ( :  ( :  (  :  ( :  ( :  ( :  ( :  ( :  ( :  ( :  ( :  ( :  ( :  ( :   ... \n",
      "\n",
      "After Cleaning:\n",
      "\n",
      "is the saddest zornes ever thanks to the magic\n"
     ]
    }
   ],
   "source": [
    "# Check if our function works well\n",
    "print(\"Before Cleaning:\\n\")\n",
    "print(outliers['text'].iloc[0],\"\\n\")\n",
    "print(\"After Cleaning:\\n\")\n",
    "print(clean_tweet(outliers['text'].iloc[0]))"
   ]
  },
  {
   "cell_type": "code",
   "execution_count": 17,
   "id": "7b0e86c2",
   "metadata": {
    "execution": {
     "iopub.execute_input": "2025-08-27T03:46:34.919544Z",
     "iopub.status.busy": "2025-08-27T03:46:34.918872Z",
     "iopub.status.idle": "2025-08-27T03:46:51.670037Z",
     "shell.execute_reply": "2025-08-27T03:46:51.669326Z"
    },
    "papermill": {
     "duration": 16.763394,
     "end_time": "2025-08-27T03:46:51.671671",
     "exception": false,
     "start_time": "2025-08-27T03:46:34.908277",
     "status": "completed"
    },
    "tags": []
   },
   "outputs": [],
   "source": [
    "df['clean_text'] = df['text'].apply(clean_tweet)"
   ]
  },
  {
   "cell_type": "code",
   "execution_count": 18,
   "id": "acf8d2b7",
   "metadata": {
    "execution": {
     "iopub.execute_input": "2025-08-27T03:46:51.696516Z",
     "iopub.status.busy": "2025-08-27T03:46:51.696182Z",
     "iopub.status.idle": "2025-08-27T03:46:53.229164Z",
     "shell.execute_reply": "2025-08-27T03:46:53.228240Z"
    },
    "papermill": {
     "duration": 1.547136,
     "end_time": "2025-08-27T03:46:53.230670",
     "exception": false,
     "start_time": "2025-08-27T03:46:51.683534",
     "status": "completed"
    },
    "tags": []
   },
   "outputs": [
    {
     "data": {
      "text/html": [
       "<div>\n",
       "<style scoped>\n",
       "    .dataframe tbody tr th:only-of-type {\n",
       "        vertical-align: middle;\n",
       "    }\n",
       "\n",
       "    .dataframe tbody tr th {\n",
       "        vertical-align: top;\n",
       "    }\n",
       "\n",
       "    .dataframe thead th {\n",
       "        text-align: right;\n",
       "    }\n",
       "</style>\n",
       "<table border=\"1\" class=\"dataframe\">\n",
       "  <thead>\n",
       "    <tr style=\"text-align: right;\">\n",
       "      <th></th>\n",
       "      <th>target</th>\n",
       "      <th>ID</th>\n",
       "      <th>date</th>\n",
       "      <th>flag</th>\n",
       "      <th>user</th>\n",
       "      <th>text</th>\n",
       "      <th>tweet_word_length</th>\n",
       "      <th>clean_text</th>\n",
       "      <th>tweet_word_length_After_Cleaning</th>\n",
       "    </tr>\n",
       "  </thead>\n",
       "  <tbody>\n",
       "    <tr>\n",
       "      <th>0</th>\n",
       "      <td>0</td>\n",
       "      <td>1467810369</td>\n",
       "      <td>Mon Apr 06 22:19:45 PDT 2009</td>\n",
       "      <td>NO_QUERY</td>\n",
       "      <td>_TheSpecialOne_</td>\n",
       "      <td>@switchfoot http://twitpic.com/2y1zl - Awww, t...</td>\n",
       "      <td>19</td>\n",
       "      <td>a thats a bummer you shoulda got david carr of...</td>\n",
       "      <td>16</td>\n",
       "    </tr>\n",
       "    <tr>\n",
       "      <th>1</th>\n",
       "      <td>0</td>\n",
       "      <td>1467810672</td>\n",
       "      <td>Mon Apr 06 22:19:49 PDT 2009</td>\n",
       "      <td>NO_QUERY</td>\n",
       "      <td>scotthamilton</td>\n",
       "      <td>is upset that he can't update his Facebook by ...</td>\n",
       "      <td>21</td>\n",
       "      <td>is upset that he cant update his facebook by t...</td>\n",
       "      <td>21</td>\n",
       "    </tr>\n",
       "    <tr>\n",
       "      <th>2</th>\n",
       "      <td>0</td>\n",
       "      <td>1467810917</td>\n",
       "      <td>Mon Apr 06 22:19:53 PDT 2009</td>\n",
       "      <td>NO_QUERY</td>\n",
       "      <td>mattycus</td>\n",
       "      <td>@Kenichan I dived many times for the ball. Man...</td>\n",
       "      <td>18</td>\n",
       "      <td>i dived many times for the ball managed to sav...</td>\n",
       "      <td>17</td>\n",
       "    </tr>\n",
       "    <tr>\n",
       "      <th>3</th>\n",
       "      <td>0</td>\n",
       "      <td>1467811184</td>\n",
       "      <td>Mon Apr 06 22:19:57 PDT 2009</td>\n",
       "      <td>NO_QUERY</td>\n",
       "      <td>ElleCTF</td>\n",
       "      <td>my whole body feels itchy and like its on fire</td>\n",
       "      <td>10</td>\n",
       "      <td>my whole body feels itchy and like its on fire</td>\n",
       "      <td>10</td>\n",
       "    </tr>\n",
       "    <tr>\n",
       "      <th>4</th>\n",
       "      <td>0</td>\n",
       "      <td>1467811193</td>\n",
       "      <td>Mon Apr 06 22:19:57 PDT 2009</td>\n",
       "      <td>NO_QUERY</td>\n",
       "      <td>Karoli</td>\n",
       "      <td>@nationwideclass no, it's not behaving at all....</td>\n",
       "      <td>21</td>\n",
       "      <td>no its not behaving at all im mad why am i her...</td>\n",
       "      <td>20</td>\n",
       "    </tr>\n",
       "  </tbody>\n",
       "</table>\n",
       "</div>"
      ],
      "text/plain": [
       "   target          ID                          date      flag  \\\n",
       "0       0  1467810369  Mon Apr 06 22:19:45 PDT 2009  NO_QUERY   \n",
       "1       0  1467810672  Mon Apr 06 22:19:49 PDT 2009  NO_QUERY   \n",
       "2       0  1467810917  Mon Apr 06 22:19:53 PDT 2009  NO_QUERY   \n",
       "3       0  1467811184  Mon Apr 06 22:19:57 PDT 2009  NO_QUERY   \n",
       "4       0  1467811193  Mon Apr 06 22:19:57 PDT 2009  NO_QUERY   \n",
       "\n",
       "              user                                               text  \\\n",
       "0  _TheSpecialOne_  @switchfoot http://twitpic.com/2y1zl - Awww, t...   \n",
       "1    scotthamilton  is upset that he can't update his Facebook by ...   \n",
       "2         mattycus  @Kenichan I dived many times for the ball. Man...   \n",
       "3          ElleCTF    my whole body feels itchy and like its on fire    \n",
       "4           Karoli  @nationwideclass no, it's not behaving at all....   \n",
       "\n",
       "   tweet_word_length                                         clean_text  \\\n",
       "0                 19  a thats a bummer you shoulda got david carr of...   \n",
       "1                 21  is upset that he cant update his facebook by t...   \n",
       "2                 18  i dived many times for the ball managed to sav...   \n",
       "3                 10     my whole body feels itchy and like its on fire   \n",
       "4                 21  no its not behaving at all im mad why am i her...   \n",
       "\n",
       "   tweet_word_length_After_Cleaning  \n",
       "0                                16  \n",
       "1                                21  \n",
       "2                                17  \n",
       "3                                10  \n",
       "4                                20  "
      ]
     },
     "execution_count": 18,
     "metadata": {},
     "output_type": "execute_result"
    }
   ],
   "source": [
    "df['tweet_word_length_After_Cleaning'] = df['clean_text'].apply(lambda x: len(x.split()))\n",
    "df.head()"
   ]
  },
  {
   "cell_type": "code",
   "execution_count": 19,
   "id": "8194d95d",
   "metadata": {
    "execution": {
     "iopub.execute_input": "2025-08-27T03:46:53.258609Z",
     "iopub.status.busy": "2025-08-27T03:46:53.257919Z",
     "iopub.status.idle": "2025-08-27T03:46:53.619103Z",
     "shell.execute_reply": "2025-08-27T03:46:53.618275Z"
    },
    "papermill": {
     "duration": 0.376312,
     "end_time": "2025-08-27T03:46:53.620391",
     "exception": false,
     "start_time": "2025-08-27T03:46:53.244079",
     "status": "completed"
    },
    "tags": []
   },
   "outputs": [
    {
     "data": {
      "image/png": "[encoded data removed]",
      "text/plain": [
       "<Figure size 640x480 with 1 Axes>"
      ]
     },
     "metadata": {},
     "output_type": "display_data"
    }
   ],
   "source": [
    "sns.boxplot(x=df[\"target\"], y=df[\"tweet_word_length_After_Cleaning\"])\n",
    "plt.xlabel(\"Sentiment Class (0 = Negative, 4 = Positive)\")\n",
    "plt.ylabel(\"Tweet Word Count\")\n",
    "plt.title(\"Tweet Word Count Distribution by Sentiment\")\n",
    "plt.show()"
   ]
  },
  {
   "cell_type": "markdown",
   "id": "71b25fb5",
   "metadata": {
    "papermill": {
     "duration": 0.011537,
     "end_time": "2025-08-27T03:46:53.643547",
     "exception": false,
     "start_time": "2025-08-27T03:46:53.632010",
     "status": "completed"
    },
    "tags": []
   },
   "source": [
    "# VADER Seniment"
   ]
  },
  {
   "cell_type": "code",
   "execution_count": 20,
   "id": "9573b784",
   "metadata": {
    "execution": {
     "iopub.execute_input": "2025-08-27T03:46:53.668970Z",
     "iopub.status.busy": "2025-08-27T03:46:53.668084Z",
     "iopub.status.idle": "2025-08-27T03:46:58.228468Z",
     "shell.execute_reply": "2025-08-27T03:46:58.227611Z"
    },
    "papermill": {
     "duration": 4.574543,
     "end_time": "2025-08-27T03:46:58.230100",
     "exception": false,
     "start_time": "2025-08-27T03:46:53.655557",
     "status": "completed"
    },
    "tags": []
   },
   "outputs": [
    {
     "name": "stdout",
     "output_type": "stream",
     "text": [
      "Collecting vaderSentiment\r\n",
      "  Downloading vaderSentiment-3.3.2-py2.py3-none-any.whl.metadata (572 bytes)\r\n",
      "Requirement already satisfied: requests in /usr/local/lib/python3.11/dist-packages (from vaderSentiment) (2.32.4)\r\n",
      "Requirement already satisfied: charset_normalizer<4,>=2 in /usr/local/lib/python3.11/dist-packages (from requests->vaderSentiment) (3.4.2)\r\n",
      "Requirement already satisfied: idna<4,>=2.5 in /usr/local/lib/python3.11/dist-packages (from requests->vaderSentiment) (3.10)\r\n",
      "Requirement already satisfied: urllib3<3,>=1.21.1 in /usr/local/lib/python3.11/dist-packages (from requests->vaderSentiment) (2.5.0)\r\n",
      "Requirement already satisfied: certifi>=2017.4.17 in /usr/local/lib/python3.11/dist-packages (from requests->vaderSentiment) (2025.6.15)\r\n",
      "Downloading vaderSentiment-3.3.2-py2.py3-none-any.whl (125 kB)\r\n",
      "\u001b[2K   \u001b[90m━━━━━━━━━━━━━━━━━━━━━━━━━━━━━━━━━━━━━━━━\u001b[0m \u001b[32m126.0/126.0 kB\u001b[0m \u001b[31m4.8 MB/s\u001b[0m eta \u001b[36m0:00:00\u001b[0m\r\n",
      "\u001b[?25hInstalling collected packages: vaderSentiment\r\n",
      "Successfully installed vaderSentiment-3.3.2\r\n"
     ]
    }
   ],
   "source": [
    "!pip install vaderSentiment"
   ]
  },
  {
   "cell_type": "code",
   "execution_count": 21,
   "id": "f39e9d02",
   "metadata": {
    "execution": {
     "iopub.execute_input": "2025-08-27T03:46:58.257785Z",
     "iopub.status.busy": "2025-08-27T03:46:58.256934Z",
     "iopub.status.idle": "2025-08-27T03:46:58.277678Z",
     "shell.execute_reply": "2025-08-27T03:46:58.276955Z"
    },
    "papermill": {
     "duration": 0.03577,
     "end_time": "2025-08-27T03:46:58.279112",
     "exception": false,
     "start_time": "2025-08-27T03:46:58.243342",
     "status": "completed"
    },
    "tags": []
   },
   "outputs": [],
   "source": [
    "from vaderSentiment.vaderSentiment import SentimentIntensityAnalyzer\n",
    "\n",
    "# Create analyzer object\n",
    "vader_analyzer = SentimentIntensityAnalyzer()"
   ]
  },
  {
   "cell_type": "code",
   "execution_count": 22,
   "id": "9e9819a2",
   "metadata": {
    "execution": {
     "iopub.execute_input": "2025-08-27T03:46:58.305990Z",
     "iopub.status.busy": "2025-08-27T03:46:58.305384Z",
     "iopub.status.idle": "2025-08-27T03:46:58.311248Z",
     "shell.execute_reply": "2025-08-27T03:46:58.310594Z"
    },
    "papermill": {
     "duration": 0.020647,
     "end_time": "2025-08-27T03:46:58.312570",
     "exception": false,
     "start_time": "2025-08-27T03:46:58.291923",
     "status": "completed"
    },
    "tags": []
   },
   "outputs": [
    {
     "data": {
      "text/plain": [
       "{'neg': 0.756, 'neu': 0.244, 'pos': 0.0, 'compound': -0.4767}"
      ]
     },
     "execution_count": 22,
     "metadata": {},
     "output_type": "execute_result"
    }
   ],
   "source": [
    "vader_analyzer.polarity_scores(\"I'm sad\")"
   ]
  },
  {
   "cell_type": "code",
   "execution_count": 23,
   "id": "6d7a584e",
   "metadata": {
    "execution": {
     "iopub.execute_input": "2025-08-27T03:46:58.339070Z",
     "iopub.status.busy": "2025-08-27T03:46:58.338820Z",
     "iopub.status.idle": "2025-08-27T03:46:58.343105Z",
     "shell.execute_reply": "2025-08-27T03:46:58.342269Z"
    },
    "papermill": {
     "duration": 0.018129,
     "end_time": "2025-08-27T03:46:58.344368",
     "exception": false,
     "start_time": "2025-08-27T03:46:58.326239",
     "status": "completed"
    },
    "tags": []
   },
   "outputs": [],
   "source": [
    "def vader_results(text):\n",
    "    scores = vader_analyzer.polarity_scores(text)\n",
    "    compound = scores['compound']\n",
    "    return 4 if compound > 0 else 0 "
   ]
  },
  {
   "cell_type": "code",
   "execution_count": 24,
   "id": "2202aea7",
   "metadata": {
    "execution": {
     "iopub.execute_input": "2025-08-27T03:46:58.369896Z",
     "iopub.status.busy": "2025-08-27T03:46:58.369078Z",
     "iopub.status.idle": "2025-08-27T03:48:25.727482Z",
     "shell.execute_reply": "2025-08-27T03:48:25.726573Z"
    },
    "papermill": {
     "duration": 87.372626,
     "end_time": "2025-08-27T03:48:25.729187",
     "exception": false,
     "start_time": "2025-08-27T03:46:58.356561",
     "status": "completed"
    },
    "tags": []
   },
   "outputs": [],
   "source": [
    "df[\"vader_sentiment\"] = df[\"clean_text\"].apply(vader_results)"
   ]
  },
  {
   "cell_type": "code",
   "execution_count": 25,
   "id": "ad30ae22",
   "metadata": {
    "execution": {
     "iopub.execute_input": "2025-08-27T03:48:25.758225Z",
     "iopub.status.busy": "2025-08-27T03:48:25.757534Z",
     "iopub.status.idle": "2025-08-27T03:48:25.773267Z",
     "shell.execute_reply": "2025-08-27T03:48:25.772595Z"
    },
    "papermill": {
     "duration": 0.031451,
     "end_time": "2025-08-27T03:48:25.774498",
     "exception": false,
     "start_time": "2025-08-27T03:48:25.743047",
     "status": "completed"
    },
    "tags": []
   },
   "outputs": [
    {
     "data": {
      "text/plain": [
       "vader_sentiment\n",
       "0    845154\n",
       "4    754846\n",
       "Name: count, dtype: int64"
      ]
     },
     "execution_count": 25,
     "metadata": {},
     "output_type": "execute_result"
    }
   ],
   "source": [
    "df[\"vader_sentiment\"].value_counts()"
   ]
  },
  {
   "cell_type": "markdown",
   "id": "0880a1a4",
   "metadata": {
    "papermill": {
     "duration": 0.01095,
     "end_time": "2025-08-27T03:48:25.797837",
     "exception": false,
     "start_time": "2025-08-27T03:48:25.786887",
     "status": "completed"
    },
    "tags": []
   },
   "source": [
    "## Evaluate Vader"
   ]
  },
  {
   "cell_type": "code",
   "execution_count": 26,
   "id": "46f8b073",
   "metadata": {
    "execution": {
     "iopub.execute_input": "2025-08-27T03:48:25.822049Z",
     "iopub.status.busy": "2025-08-27T03:48:25.821401Z",
     "iopub.status.idle": "2025-08-27T03:48:29.164161Z",
     "shell.execute_reply": "2025-08-27T03:48:29.162908Z"
    },
    "papermill": {
     "duration": 3.356296,
     "end_time": "2025-08-27T03:48:29.165706",
     "exception": false,
     "start_time": "2025-08-27T03:48:25.809410",
     "status": "completed"
    },
    "tags": []
   },
   "outputs": [
    {
     "name": "stdout",
     "output_type": "stream",
     "text": [
      "Accuracy: 0.65192\n",
      "\n",
      "Classification Report:\n",
      "               precision    recall  f1-score   support\n",
      "\n",
      "           0       0.64      0.68      0.66    800000\n",
      "           4       0.66      0.62      0.64    800000\n",
      "\n",
      "    accuracy                           0.65   1600000\n",
      "   macro avg       0.65      0.65      0.65   1600000\n",
      "weighted avg       0.65      0.65      0.65   1600000\n",
      "\n",
      "\n",
      "Confusion Matrix:\n",
      " [[544113 255887]\n",
      " [301041 498959]]\n"
     ]
    }
   ],
   "source": [
    "from sklearn.metrics import accuracy_score, classification_report, confusion_matrix\n",
    "\n",
    "y_true = df[\"target\"]\n",
    "y_pred = df[\"vader_sentiment\"]\n",
    "\n",
    "# evaluation\n",
    "print(\"Accuracy:\", accuracy_score(y_true, y_pred))\n",
    "print(\"\\nClassification Report:\\n\", classification_report(y_true, y_pred))\n",
    "print(\"\\nConfusion Matrix:\\n\", confusion_matrix(y_true, y_pred))"
   ]
  },
  {
   "cell_type": "markdown",
   "id": "566df3ae",
   "metadata": {
    "papermill": {
     "duration": 0.012202,
     "end_time": "2025-08-27T03:48:29.191054",
     "exception": false,
     "start_time": "2025-08-27T03:48:29.178852",
     "status": "completed"
    },
    "tags": []
   },
   "source": [
    "### Vader Results\n",
    "\n",
    "he VADER sentiment analyzer on the dataset, we achieved an overall accuracy of ~65% when classifying into positive (4) and negative (0) sentiments. However, the dataset originally contains only binary labels (0 and 4), while VADER also outputs a neutral class (2). This mismatch required filtering to align predictions with the dataset. The confusion matrix shows that VADER performs slightly better on negative tweets (recall = 0.68) compared to positive tweets (recall = 0.62). Although the performance is above random chance, it highlights the limitations of lexicon-based methods like VADER when applied to large-scale datasets, motivating the need for more robust machine learning or deep learning models."
   ]
  },
  {
   "cell_type": "code",
   "execution_count": 27,
   "id": "cf3a859d",
   "metadata": {
    "execution": {
     "iopub.execute_input": "2025-08-27T03:48:29.217135Z",
     "iopub.status.busy": "2025-08-27T03:48:29.216219Z",
     "iopub.status.idle": "2025-08-27T03:48:29.383800Z",
     "shell.execute_reply": "2025-08-27T03:48:29.382984Z"
    },
    "papermill": {
     "duration": 0.181793,
     "end_time": "2025-08-27T03:48:29.385369",
     "exception": false,
     "start_time": "2025-08-27T03:48:29.203576",
     "status": "completed"
    },
    "tags": []
   },
   "outputs": [
    {
     "data": {
      "text/html": [
       "<div>\n",
       "<style scoped>\n",
       "    .dataframe tbody tr th:only-of-type {\n",
       "        vertical-align: middle;\n",
       "    }\n",
       "\n",
       "    .dataframe tbody tr th {\n",
       "        vertical-align: top;\n",
       "    }\n",
       "\n",
       "    .dataframe thead th {\n",
       "        text-align: right;\n",
       "    }\n",
       "</style>\n",
       "<table border=\"1\" class=\"dataframe\">\n",
       "  <thead>\n",
       "    <tr style=\"text-align: right;\">\n",
       "      <th></th>\n",
       "      <th>target</th>\n",
       "      <th>ID</th>\n",
       "      <th>date</th>\n",
       "      <th>flag</th>\n",
       "      <th>user</th>\n",
       "      <th>text</th>\n",
       "      <th>tweet_word_length</th>\n",
       "      <th>clean_text</th>\n",
       "      <th>tweet_word_length_After_Cleaning</th>\n",
       "      <th>vader_sentiment</th>\n",
       "    </tr>\n",
       "  </thead>\n",
       "  <tbody>\n",
       "    <tr>\n",
       "      <th>2</th>\n",
       "      <td>0</td>\n",
       "      <td>1467810917</td>\n",
       "      <td>Mon Apr 06 22:19:53 PDT 2009</td>\n",
       "      <td>NO_QUERY</td>\n",
       "      <td>mattycus</td>\n",
       "      <td>@Kenichan I dived many times for the ball. Man...</td>\n",
       "      <td>18</td>\n",
       "      <td>i dived many times for the ball managed to sav...</td>\n",
       "      <td>17</td>\n",
       "      <td>4</td>\n",
       "    </tr>\n",
       "    <tr>\n",
       "      <th>6</th>\n",
       "      <td>0</td>\n",
       "      <td>1467811592</td>\n",
       "      <td>Mon Apr 06 22:20:03 PDT 2009</td>\n",
       "      <td>NO_QUERY</td>\n",
       "      <td>mybirch</td>\n",
       "      <td>Need a hug</td>\n",
       "      <td>3</td>\n",
       "      <td>need a hug</td>\n",
       "      <td>3</td>\n",
       "      <td>4</td>\n",
       "    </tr>\n",
       "    <tr>\n",
       "      <th>7</th>\n",
       "      <td>0</td>\n",
       "      <td>1467811594</td>\n",
       "      <td>Mon Apr 06 22:20:03 PDT 2009</td>\n",
       "      <td>NO_QUERY</td>\n",
       "      <td>coZZ</td>\n",
       "      <td>@LOLTrish hey  long time no see! Yes.. Rains a...</td>\n",
       "      <td>22</td>\n",
       "      <td>hey long time no see yes rains a bit only a bi...</td>\n",
       "      <td>18</td>\n",
       "      <td>4</td>\n",
       "    </tr>\n",
       "    <tr>\n",
       "      <th>14</th>\n",
       "      <td>0</td>\n",
       "      <td>1467812784</td>\n",
       "      <td>Mon Apr 06 22:20:20 PDT 2009</td>\n",
       "      <td>NO_QUERY</td>\n",
       "      <td>bayofwolves</td>\n",
       "      <td>@smarrison i would've been the first, but i di...</td>\n",
       "      <td>20</td>\n",
       "      <td>i wouldve been the first but i didnt have a gu...</td>\n",
       "      <td>19</td>\n",
       "      <td>4</td>\n",
       "    </tr>\n",
       "    <tr>\n",
       "      <th>15</th>\n",
       "      <td>0</td>\n",
       "      <td>1467812799</td>\n",
       "      <td>Mon Apr 06 22:20:20 PDT 2009</td>\n",
       "      <td>NO_QUERY</td>\n",
       "      <td>HairByJess</td>\n",
       "      <td>@iamjazzyfizzle I wish I got to watch it with ...</td>\n",
       "      <td>19</td>\n",
       "      <td>i wish i got to watch it with you i miss you a...</td>\n",
       "      <td>17</td>\n",
       "      <td>4</td>\n",
       "    </tr>\n",
       "  </tbody>\n",
       "</table>\n",
       "</div>"
      ],
      "text/plain": [
       "    target          ID                          date      flag         user  \\\n",
       "2        0  1467810917  Mon Apr 06 22:19:53 PDT 2009  NO_QUERY     mattycus   \n",
       "6        0  1467811592  Mon Apr 06 22:20:03 PDT 2009  NO_QUERY      mybirch   \n",
       "7        0  1467811594  Mon Apr 06 22:20:03 PDT 2009  NO_QUERY         coZZ   \n",
       "14       0  1467812784  Mon Apr 06 22:20:20 PDT 2009  NO_QUERY  bayofwolves   \n",
       "15       0  1467812799  Mon Apr 06 22:20:20 PDT 2009  NO_QUERY   HairByJess   \n",
       "\n",
       "                                                 text  tweet_word_length  \\\n",
       "2   @Kenichan I dived many times for the ball. Man...                 18   \n",
       "6                                         Need a hug                   3   \n",
       "7   @LOLTrish hey  long time no see! Yes.. Rains a...                 22   \n",
       "14  @smarrison i would've been the first, but i di...                 20   \n",
       "15  @iamjazzyfizzle I wish I got to watch it with ...                 19   \n",
       "\n",
       "                                           clean_text  \\\n",
       "2   i dived many times for the ball managed to sav...   \n",
       "6                                          need a hug   \n",
       "7   hey long time no see yes rains a bit only a bi...   \n",
       "14  i wouldve been the first but i didnt have a gu...   \n",
       "15  i wish i got to watch it with you i miss you a...   \n",
       "\n",
       "    tweet_word_length_After_Cleaning  vader_sentiment  \n",
       "2                                 17                4  \n",
       "6                                  3                4  \n",
       "7                                 18                4  \n",
       "14                                19                4  \n",
       "15                                17                4  "
      ]
     },
     "execution_count": 27,
     "metadata": {},
     "output_type": "execute_result"
    }
   ],
   "source": [
    "#Example of False Positives\n",
    "False_positives = df[(df['target'] == 0) & (df['vader_sentiment'] == 4)]\n",
    "False_positives.head()"
   ]
  },
  {
   "cell_type": "code",
   "execution_count": 28,
   "id": "a9094b73",
   "metadata": {
    "execution": {
     "iopub.execute_input": "2025-08-27T03:48:29.412920Z",
     "iopub.status.busy": "2025-08-27T03:48:29.412658Z",
     "iopub.status.idle": "2025-08-27T03:48:29.556284Z",
     "shell.execute_reply": "2025-08-27T03:48:29.555480Z"
    },
    "papermill": {
     "duration": 0.158788,
     "end_time": "2025-08-27T03:48:29.557826",
     "exception": false,
     "start_time": "2025-08-27T03:48:29.399038",
     "status": "completed"
    },
    "tags": []
   },
   "outputs": [
    {
     "data": {
      "text/html": [
       "<div>\n",
       "<style scoped>\n",
       "    .dataframe tbody tr th:only-of-type {\n",
       "        vertical-align: middle;\n",
       "    }\n",
       "\n",
       "    .dataframe tbody tr th {\n",
       "        vertical-align: top;\n",
       "    }\n",
       "\n",
       "    .dataframe thead th {\n",
       "        text-align: right;\n",
       "    }\n",
       "</style>\n",
       "<table border=\"1\" class=\"dataframe\">\n",
       "  <thead>\n",
       "    <tr style=\"text-align: right;\">\n",
       "      <th></th>\n",
       "      <th>target</th>\n",
       "      <th>ID</th>\n",
       "      <th>date</th>\n",
       "      <th>flag</th>\n",
       "      <th>user</th>\n",
       "      <th>text</th>\n",
       "      <th>tweet_word_length</th>\n",
       "      <th>clean_text</th>\n",
       "      <th>tweet_word_length_After_Cleaning</th>\n",
       "      <th>vader_sentiment</th>\n",
       "    </tr>\n",
       "  </thead>\n",
       "  <tbody>\n",
       "    <tr>\n",
       "      <th>800001</th>\n",
       "      <td>4</td>\n",
       "      <td>1467822273</td>\n",
       "      <td>Mon Apr 06 22:22:45 PDT 2009</td>\n",
       "      <td>NO_QUERY</td>\n",
       "      <td>becca210</td>\n",
       "      <td>im meeting up with one of my besties tonight! ...</td>\n",
       "      <td>14</td>\n",
       "      <td>im meeting up with one of my besties tonight c...</td>\n",
       "      <td>13</td>\n",
       "      <td>0</td>\n",
       "    </tr>\n",
       "    <tr>\n",
       "      <th>800003</th>\n",
       "      <td>4</td>\n",
       "      <td>1467822287</td>\n",
       "      <td>Mon Apr 06 22:22:46 PDT 2009</td>\n",
       "      <td>NO_QUERY</td>\n",
       "      <td>katarinka</td>\n",
       "      <td>Being sick can be really cheap when it hurts t...</td>\n",
       "      <td>21</td>\n",
       "      <td>being sick can be really cheap when it hurts t...</td>\n",
       "      <td>21</td>\n",
       "      <td>0</td>\n",
       "    </tr>\n",
       "    <tr>\n",
       "      <th>800004</th>\n",
       "      <td>4</td>\n",
       "      <td>1467822293</td>\n",
       "      <td>Mon Apr 06 22:22:46 PDT 2009</td>\n",
       "      <td>NO_QUERY</td>\n",
       "      <td>_EmilyYoung</td>\n",
       "      <td>@LovesBrooklyn2 he has that effect on everyone</td>\n",
       "      <td>7</td>\n",
       "      <td>he has that effect on everyone</td>\n",
       "      <td>6</td>\n",
       "      <td>0</td>\n",
       "    </tr>\n",
       "    <tr>\n",
       "      <th>800006</th>\n",
       "      <td>4</td>\n",
       "      <td>1467822447</td>\n",
       "      <td>Mon Apr 06 22:22:51 PDT 2009</td>\n",
       "      <td>NO_QUERY</td>\n",
       "      <td>vmdavinci</td>\n",
       "      <td>@r_keith_hill Thans for your response. Ihad al...</td>\n",
       "      <td>10</td>\n",
       "      <td>thans for your response ihad already find this...</td>\n",
       "      <td>9</td>\n",
       "      <td>0</td>\n",
       "    </tr>\n",
       "    <tr>\n",
       "      <th>800009</th>\n",
       "      <td>4</td>\n",
       "      <td>1467822496</td>\n",
       "      <td>Mon Apr 06 22:22:49 PDT 2009</td>\n",
       "      <td>NO_QUERY</td>\n",
       "      <td>SherylBreuker</td>\n",
       "      <td>@e4VoIP I RESPONDED  Stupid cat is helping me ...</td>\n",
       "      <td>11</td>\n",
       "      <td>i responded stupid cat is helping me type forg...</td>\n",
       "      <td>10</td>\n",
       "      <td>0</td>\n",
       "    </tr>\n",
       "  </tbody>\n",
       "</table>\n",
       "</div>"
      ],
      "text/plain": [
       "        target          ID                          date      flag  \\\n",
       "800001       4  1467822273  Mon Apr 06 22:22:45 PDT 2009  NO_QUERY   \n",
       "800003       4  1467822287  Mon Apr 06 22:22:46 PDT 2009  NO_QUERY   \n",
       "800004       4  1467822293  Mon Apr 06 22:22:46 PDT 2009  NO_QUERY   \n",
       "800006       4  1467822447  Mon Apr 06 22:22:51 PDT 2009  NO_QUERY   \n",
       "800009       4  1467822496  Mon Apr 06 22:22:49 PDT 2009  NO_QUERY   \n",
       "\n",
       "                 user                                               text  \\\n",
       "800001       becca210  im meeting up with one of my besties tonight! ...   \n",
       "800003      katarinka  Being sick can be really cheap when it hurts t...   \n",
       "800004    _EmilyYoung    @LovesBrooklyn2 he has that effect on everyone    \n",
       "800006      vmdavinci  @r_keith_hill Thans for your response. Ihad al...   \n",
       "800009  SherylBreuker  @e4VoIP I RESPONDED  Stupid cat is helping me ...   \n",
       "\n",
       "        tweet_word_length                                         clean_text  \\\n",
       "800001                 14  im meeting up with one of my besties tonight c...   \n",
       "800003                 21  being sick can be really cheap when it hurts t...   \n",
       "800004                  7                     he has that effect on everyone   \n",
       "800006                 10  thans for your response ihad already find this...   \n",
       "800009                 11  i responded stupid cat is helping me type forg...   \n",
       "\n",
       "        tweet_word_length_After_Cleaning  vader_sentiment  \n",
       "800001                                13                0  \n",
       "800003                                21                0  \n",
       "800004                                 6                0  \n",
       "800006                                 9                0  \n",
       "800009                                10                0  "
      ]
     },
     "execution_count": 28,
     "metadata": {},
     "output_type": "execute_result"
    }
   ],
   "source": [
    "#False Negatives\n",
    "False_negatives = df[(df['target'] == 4) & (df['vader_sentiment'] == 0)]\n",
    "False_negatives.head()"
   ]
  },
  {
   "cell_type": "markdown",
   "id": "f71ed6b2",
   "metadata": {
    "papermill": {
     "duration": 0.016291,
     "end_time": "2025-08-27T03:48:29.591912",
     "exception": false,
     "start_time": "2025-08-27T03:48:29.575621",
     "status": "completed"
    },
    "tags": []
   },
   "source": [
    "# Tokenization"
   ]
  },
  {
   "cell_type": "code",
   "execution_count": 29,
   "id": "f933e787",
   "metadata": {
    "execution": {
     "iopub.execute_input": "2025-08-27T03:48:29.630754Z",
     "iopub.status.busy": "2025-08-27T03:48:29.629878Z",
     "iopub.status.idle": "2025-08-27T03:48:30.122710Z",
     "shell.execute_reply": "2025-08-27T03:48:30.121647Z"
    },
    "papermill": {
     "duration": 0.510267,
     "end_time": "2025-08-27T03:48:30.124653",
     "exception": false,
     "start_time": "2025-08-27T03:48:29.614386",
     "status": "completed"
    },
    "tags": []
   },
   "outputs": [],
   "source": [
    "from sklearn.model_selection import train_test_split\n",
    "\n",
    "# First split into train + temp (validation + test)\n",
    "X_train, X_test, y_train, y_test = train_test_split(df['clean_text'], df['target'], test_size=0.2, random_state=42)"
   ]
  },
  {
   "cell_type": "code",
   "execution_count": 30,
   "id": "3e578fc7",
   "metadata": {
    "execution": {
     "iopub.execute_input": "2025-08-27T03:48:30.153278Z",
     "iopub.status.busy": "2025-08-27T03:48:30.152998Z",
     "iopub.status.idle": "2025-08-27T03:49:26.621175Z",
     "shell.execute_reply": "2025-08-27T03:49:26.620469Z"
    },
    "papermill": {
     "duration": 56.483543,
     "end_time": "2025-08-27T03:49:26.622857",
     "exception": false,
     "start_time": "2025-08-27T03:48:30.139314",
     "status": "completed"
    },
    "tags": []
   },
   "outputs": [
    {
     "name": "stderr",
     "output_type": "stream",
     "text": [
      "2025-08-27 03:48:32.052501: E external/local_xla/xla/stream_executor/cuda/cuda_fft.cc:477] Unable to register cuFFT factory: Attempting to register factory for plugin cuFFT when one has already been registered\n",
      "WARNING: All log messages before absl::InitializeLog() is called are written to STDERR\n",
      "E0000 00:00:1756266512.248796      19 cuda_dnn.cc:8310] Unable to register cuDNN factory: Attempting to register factory for plugin cuDNN when one has already been registered\n",
      "E0000 00:00:1756266512.310019      19 cuda_blas.cc:1418] Unable to register cuBLAS factory: Attempting to register factory for plugin cuBLAS when one has already been registered\n"
     ]
    }
   ],
   "source": [
    "from tensorflow.keras.preprocessing.text import Tokenizer\n",
    "from tensorflow.keras.preprocessing.sequence import pad_sequences\n",
    "\n",
    "import warnings\n",
    "warnings.filterwarnings('ignore')\n",
    "\n",
    "# Parameters\n",
    "MAX_VOCAB = 20000   # keep top 20k words\n",
    "MAX_LEN = 50        # pad/truncate to 50 tokens\n",
    "\n",
    "tokenizer = Tokenizer(num_words = MAX_VOCAB, oov_token = \"<OOV>\")\n",
    "tokenizer.fit_on_texts(X_train)\n",
    "\n",
    "#convert text to sequence\n",
    "X_train_seq = tokenizer.texts_to_sequences(X_train)\n",
    "X_test_seq = tokenizer.texts_to_sequences(X_test)\n",
    "\n",
    "#padding sequence for ensuring same length\n",
    "X_train_padded = pad_sequences(X_train_seq, maxlen= MAX_LEN, padding = \"post\", truncating = \"post\")\n",
    "X_test_padded = pad_sequences(X_test_seq, maxlen= MAX_LEN, padding = \"post\", truncating = \"post\")"
   ]
  },
  {
   "cell_type": "markdown",
   "id": "e0a9a346",
   "metadata": {
    "papermill": {
     "duration": 0.012385,
     "end_time": "2025-08-27T03:49:26.648734",
     "exception": false,
     "start_time": "2025-08-27T03:49:26.636349",
     "status": "completed"
    },
    "tags": []
   },
   "source": [
    "## Encoding The Target"
   ]
  },
  {
   "cell_type": "code",
   "execution_count": 31,
   "id": "86aaadc2",
   "metadata": {
    "execution": {
     "iopub.execute_input": "2025-08-27T03:49:26.676630Z",
     "iopub.status.busy": "2025-08-27T03:49:26.675504Z",
     "iopub.status.idle": "2025-08-27T03:49:26.725375Z",
     "shell.execute_reply": "2025-08-27T03:49:26.724337Z"
    },
    "papermill": {
     "duration": 0.065471,
     "end_time": "2025-08-27T03:49:26.726782",
     "exception": false,
     "start_time": "2025-08-27T03:49:26.661311",
     "status": "completed"
    },
    "tags": []
   },
   "outputs": [
    {
     "name": "stdout",
     "output_type": "stream",
     "text": [
      "y_train sample: [1 1 1 0 1]\n",
      "Unique labels: [0 1]\n"
     ]
    }
   ],
   "source": [
    "import numpy as np\n",
    "from tensorflow.keras.utils import to_categorical\n",
    "\n",
    "#map (0,4) to 0,1\n",
    "label_mapping = {0: 0, 4: 1}\n",
    "y_train = y_train.replace(label_mapping).to_numpy()\n",
    "y_test  = y_test.replace(label_mapping).to_numpy()\n",
    "\n",
    "print(\"y_train sample:\", y_train[:5])\n",
    "print(\"Unique labels:\", np.unique(y_train))"
   ]
  },
  {
   "cell_type": "markdown",
   "id": "57e1173d",
   "metadata": {
    "papermill": {
     "duration": 0.012789,
     "end_time": "2025-08-27T03:49:26.753303",
     "exception": false,
     "start_time": "2025-08-27T03:49:26.740514",
     "status": "completed"
    },
    "tags": []
   },
   "source": [
    "# CNN Model"
   ]
  },
  {
   "cell_type": "code",
   "execution_count": 32,
   "id": "427e8231",
   "metadata": {
    "execution": {
     "iopub.execute_input": "2025-08-27T03:49:26.780204Z",
     "iopub.status.busy": "2025-08-27T03:49:26.779603Z",
     "iopub.status.idle": "2025-08-27T03:49:27.671864Z",
     "shell.execute_reply": "2025-08-27T03:49:27.670991Z"
    },
    "papermill": {
     "duration": 0.907428,
     "end_time": "2025-08-27T03:49:27.673396",
     "exception": false,
     "start_time": "2025-08-27T03:49:26.765968",
     "status": "completed"
    },
    "tags": []
   },
   "outputs": [
    {
     "name": "stderr",
     "output_type": "stream",
     "text": [
      "I0000 00:00:1756266567.629845      19 gpu_device.cc:2022] Created device /job:localhost/replica:0/task:0/device:GPU:0 with 15513 MB memory:  -> device: 0, name: Tesla P100-PCIE-16GB, pci bus id: 0000:00:04.0, compute capability: 6.0\n"
     ]
    }
   ],
   "source": [
    "from tensorflow.keras.models import Sequential\n",
    "from tensorflow.keras.layers import Embedding, Conv1D, GlobalMaxPooling1D, Dense, Dropout\n",
    "\n",
    "model = Sequential([\n",
    "    Embedding(input_dim = MAX_VOCAB, output_dim = 128, input_length = MAX_LEN),\n",
    "    Conv1D(filters=128, kernel_size=5, activation='relu'),\n",
    "    GlobalMaxPooling1D(),\n",
    "    Dense(64, activation='relu'),\n",
    "    Dropout(0.5),\n",
    "    Dense(1, activation=\"sigmoid\") \n",
    "])"
   ]
  },
  {
   "cell_type": "code",
   "execution_count": 33,
   "id": "6ed68067",
   "metadata": {
    "execution": {
     "iopub.execute_input": "2025-08-27T03:49:27.700143Z",
     "iopub.status.busy": "2025-08-27T03:49:27.699879Z",
     "iopub.status.idle": "2025-08-27T03:49:27.719712Z",
     "shell.execute_reply": "2025-08-27T03:49:27.718990Z"
    },
    "papermill": {
     "duration": 0.034688,
     "end_time": "2025-08-27T03:49:27.721232",
     "exception": false,
     "start_time": "2025-08-27T03:49:27.686544",
     "status": "completed"
    },
    "tags": []
   },
   "outputs": [],
   "source": [
    "model.compile(loss='binary_crossentropy',\n",
    "              optimizer='adam',\n",
    "              metrics=['accuracy'])"
   ]
  },
  {
   "cell_type": "code",
   "execution_count": 34,
   "id": "0d17634b",
   "metadata": {
    "execution": {
     "iopub.execute_input": "2025-08-27T03:49:27.749979Z",
     "iopub.status.busy": "2025-08-27T03:49:27.749183Z",
     "iopub.status.idle": "2025-08-27T03:52:42.555388Z",
     "shell.execute_reply": "2025-08-27T03:52:42.554320Z"
    },
    "papermill": {
     "duration": 194.821878,
     "end_time": "2025-08-27T03:52:42.557094",
     "exception": false,
     "start_time": "2025-08-27T03:49:27.735216",
     "status": "completed"
    },
    "tags": []
   },
   "outputs": [
    {
     "name": "stdout",
     "output_type": "stream",
     "text": [
      "Epoch 1/5\n"
     ]
    },
    {
     "name": "stderr",
     "output_type": "stream",
     "text": [
      "WARNING: All log messages before absl::InitializeLog() is called are written to STDERR\n",
      "I0000 00:00:1756266570.649079      66 service.cc:148] XLA service 0x7c04c800d620 initialized for platform CUDA (this does not guarantee that XLA will be used). Devices:\n",
      "I0000 00:00:1756266570.649817      66 service.cc:156]   StreamExecutor device (0): Tesla P100-PCIE-16GB, Compute Capability 6.0\n",
      "I0000 00:00:1756266571.055262      66 cuda_dnn.cc:529] Loaded cuDNN version 90300\n"
     ]
    },
    {
     "name": "stdout",
     "output_type": "stream",
     "text": [
      "\u001b[1m  39/9000\u001b[0m \u001b[37m━━━━━━━━━━━━━━━━━━━━\u001b[0m \u001b[1m36s\u001b[0m 4ms/step - accuracy: 0.5401 - loss: 0.6902"
     ]
    },
    {
     "name": "stderr",
     "output_type": "stream",
     "text": [
      "I0000 00:00:1756266573.550134      66 device_compiler.h:188] Compiled cluster using XLA!  This line is logged at most once for the lifetime of the process.\n"
     ]
    },
    {
     "name": "stdout",
     "output_type": "stream",
     "text": [
      "\u001b[1m9000/9000\u001b[0m \u001b[32m━━━━━━━━━━━━━━━━━━━━\u001b[0m\u001b[37m\u001b[0m \u001b[1m44s\u001b[0m 4ms/step - accuracy: 0.7851 - loss: 0.4544 - val_accuracy: 0.8219 - val_loss: 0.3928\n",
      "Epoch 2/5\n",
      "\u001b[1m9000/9000\u001b[0m \u001b[32m━━━━━━━━━━━━━━━━━━━━\u001b[0m\u001b[37m\u001b[0m \u001b[1m38s\u001b[0m 4ms/step - accuracy: 0.8361 - loss: 0.3710 - val_accuracy: 0.8234 - val_loss: 0.3908\n",
      "Epoch 3/5\n",
      "\u001b[1m9000/9000\u001b[0m \u001b[32m━━━━━━━━━━━━━━━━━━━━\u001b[0m\u001b[37m\u001b[0m \u001b[1m37s\u001b[0m 4ms/step - accuracy: 0.8594 - loss: 0.3253 - val_accuracy: 0.8185 - val_loss: 0.4042\n",
      "Epoch 4/5\n",
      "\u001b[1m9000/9000\u001b[0m \u001b[32m━━━━━━━━━━━━━━━━━━━━\u001b[0m\u001b[37m\u001b[0m \u001b[1m38s\u001b[0m 4ms/step - accuracy: 0.8817 - loss: 0.2780 - val_accuracy: 0.8170 - val_loss: 0.4289\n",
      "Epoch 5/5\n",
      "\u001b[1m9000/9000\u001b[0m \u001b[32m━━━━━━━━━━━━━━━━━━━━\u001b[0m\u001b[37m\u001b[0m \u001b[1m38s\u001b[0m 4ms/step - accuracy: 0.9009 - loss: 0.2353 - val_accuracy: 0.8126 - val_loss: 0.4786\n"
     ]
    }
   ],
   "source": [
    "history = model.fit(X_train_padded, y_train,\n",
    "                    epochs=5,\n",
    "                    batch_size=128,\n",
    "                   validation_split=0.1,\n",
    "                   verbose = 1)"
   ]
  },
  {
   "cell_type": "markdown",
   "id": "489cfee3",
   "metadata": {
    "papermill": {
     "duration": 0.174623,
     "end_time": "2025-08-27T03:52:42.913297",
     "exception": false,
     "start_time": "2025-08-27T03:52:42.738674",
     "status": "completed"
    },
    "tags": []
   },
   "source": [
    "## Evaluate CNN"
   ]
  },
  {
   "cell_type": "code",
   "execution_count": 35,
   "id": "95f563d1",
   "metadata": {
    "execution": {
     "iopub.execute_input": "2025-08-27T03:52:43.339096Z",
     "iopub.status.busy": "2025-08-27T03:52:43.338268Z",
     "iopub.status.idle": "2025-08-27T03:52:43.676713Z",
     "shell.execute_reply": "2025-08-27T03:52:43.675735Z"
    },
    "papermill": {
     "duration": 0.52096,
     "end_time": "2025-08-27T03:52:43.678171",
     "exception": false,
     "start_time": "2025-08-27T03:52:43.157211",
     "status": "completed"
    },
    "tags": []
   },
   "outputs": [
    {
     "data": {
      "image/png": "[encoded data removed]",
      "text/plain": [
       "<Figure size 640x480 with 1 Axes>"
      ]
     },
     "metadata": {},
     "output_type": "display_data"
    },
    {
     "data": {
      "image/png": "[encoded data removed]",
      "text/plain": [
       "<Figure size 640x480 with 1 Axes>"
      ]
     },
     "metadata": {},
     "output_type": "display_data"
    }
   ],
   "source": [
    "import matplotlib.pyplot as plt\n",
    "\n",
    "plt.plot(history.history['loss'], label='train_loss')\n",
    "plt.plot(history.history['val_loss'], label='val_loss')\n",
    "plt.legend()\n",
    "plt.show()\n",
    "\n",
    "plt.plot(history.history['accuracy'], label='train_acc')\n",
    "plt.plot(history.history['val_accuracy'], label='val_acc')\n",
    "plt.legend()\n",
    "plt.show()"
   ]
  },
  {
   "cell_type": "markdown",
   "id": "268fee35",
   "metadata": {
    "papermill": {
     "duration": 0.181127,
     "end_time": "2025-08-27T03:52:44.043106",
     "exception": false,
     "start_time": "2025-08-27T03:52:43.861979",
     "status": "completed"
    },
    "tags": []
   },
   "source": [
    "From the loss curves, it is clear that the model starts to overfit after just ~3–5 epochs. While the training loss decreases consistently, the validation loss increases, showing that the model memorizes the training data rather than generalizing."
   ]
  },
  {
   "cell_type": "code",
   "execution_count": 36,
   "id": "ab892e54",
   "metadata": {
    "execution": {
     "iopub.execute_input": "2025-08-27T03:52:44.407899Z",
     "iopub.status.busy": "2025-08-27T03:52:44.407233Z",
     "iopub.status.idle": "2025-08-27T03:53:05.795745Z",
     "shell.execute_reply": "2025-08-27T03:53:05.794738Z"
    },
    "papermill": {
     "duration": 21.57141,
     "end_time": "2025-08-27T03:53:05.797223",
     "exception": false,
     "start_time": "2025-08-27T03:52:44.225813",
     "status": "completed"
    },
    "tags": []
   },
   "outputs": [
    {
     "name": "stdout",
     "output_type": "stream",
     "text": [
      "The loss is:  0.48465555906295776\n",
      "The accuracy is:  0.809653103351593\n"
     ]
    }
   ],
   "source": [
    "loss, accuracy = model.evaluate(X_test_padded, y_test, verbose=0)\n",
    "print(\"The loss is: \", loss)\n",
    "print(\"The accuracy is: \", accuracy)"
   ]
  },
  {
   "cell_type": "markdown",
   "id": "5586478b",
   "metadata": {
    "papermill": {
     "duration": 0.186177,
     "end_time": "2025-08-27T03:53:06.169255",
     "exception": false,
     "start_time": "2025-08-27T03:53:05.983078",
     "status": "completed"
    },
    "tags": []
   },
   "source": [
    "### CNN Results\n",
    "The CNN model achieved a loss of **0.4877** and an accuracy of **81.0%**, which is a clear improvement compared to the rule-based VADER approach. This shows that the neural network is able to capture more nuanced sentiment patterns in the data than lexicon-based methods. However, while the results are promising, the performance is still not at the level we aim for, indicating that CNN may not be the most suitable architecture for this task. Further exploration with sequential or transformer-based models could lead to better results."
   ]
  },
  {
   "cell_type": "markdown",
   "id": "9251fb28",
   "metadata": {
    "papermill": {
     "duration": 0.185528,
     "end_time": "2025-08-27T03:53:06.541956",
     "exception": false,
     "start_time": "2025-08-27T03:53:06.356428",
     "status": "completed"
    },
    "tags": []
   },
   "source": [
    "# Bidirectional LSTM Model"
   ]
  },
  {
   "cell_type": "code",
   "execution_count": 37,
   "id": "e3e48d24",
   "metadata": {
    "execution": {
     "iopub.execute_input": "2025-08-27T03:53:06.963304Z",
     "iopub.status.busy": "2025-08-27T03:53:06.962495Z",
     "iopub.status.idle": "2025-08-27T03:53:06.992035Z",
     "shell.execute_reply": "2025-08-27T03:53:06.991362Z"
    },
    "papermill": {
     "duration": 0.210692,
     "end_time": "2025-08-27T03:53:06.993462",
     "exception": false,
     "start_time": "2025-08-27T03:53:06.782770",
     "status": "completed"
    },
    "tags": []
   },
   "outputs": [],
   "source": [
    "from tensorflow.keras.models import Sequential\n",
    "from tensorflow.keras.layers import Embedding, LSTM, Bidirectional, Dense, Dropout\n",
    "\n",
    "model = Sequential()\n",
    "model.add(Embedding(input_dim=MAX_VOCAB, output_dim=128, input_length=MAX_LEN))\n",
    "model.add(Bidirectional(LSTM(64, return_sequences=False)))\n",
    "model.add(Dropout(0.5))\n",
    "model.add(Dense(1, activation='sigmoid'))\n",
    "\n",
    "model.compile(loss='binary_crossentropy', optimizer='adam', metrics=['accuracy'])"
   ]
  },
  {
   "cell_type": "code",
   "execution_count": 38,
   "id": "07cadef4",
   "metadata": {
    "execution": {
     "iopub.execute_input": "2025-08-27T03:53:07.359038Z",
     "iopub.status.busy": "2025-08-27T03:53:07.358698Z",
     "iopub.status.idle": "2025-08-27T04:01:51.915367Z",
     "shell.execute_reply": "2025-08-27T04:01:51.914473Z"
    },
    "papermill": {
     "duration": 525.40894,
     "end_time": "2025-08-27T04:01:52.581193",
     "exception": false,
     "start_time": "2025-08-27T03:53:07.172253",
     "status": "completed"
    },
    "tags": []
   },
   "outputs": [
    {
     "name": "stdout",
     "output_type": "stream",
     "text": [
      "Epoch 1/5\n",
      "\u001b[1m9000/9000\u001b[0m \u001b[32m━━━━━━━━━━━━━━━━━━━━\u001b[0m\u001b[37m\u001b[0m \u001b[1m110s\u001b[0m 12ms/step - accuracy: 0.7851 - loss: 0.4529 - val_accuracy: 0.8218 - val_loss: 0.3957\n",
      "Epoch 2/5\n",
      "\u001b[1m9000/9000\u001b[0m \u001b[32m━━━━━━━━━━━━━━━━━━━━\u001b[0m\u001b[37m\u001b[0m \u001b[1m103s\u001b[0m 11ms/step - accuracy: 0.8300 - loss: 0.3801 - val_accuracy: 0.8252 - val_loss: 0.3885\n",
      "Epoch 3/5\n",
      "\u001b[1m9000/9000\u001b[0m \u001b[32m━━━━━━━━━━━━━━━━━━━━\u001b[0m\u001b[37m\u001b[0m \u001b[1m103s\u001b[0m 11ms/step - accuracy: 0.8423 - loss: 0.3563 - val_accuracy: 0.8231 - val_loss: 0.3916\n",
      "Epoch 4/5\n",
      "\u001b[1m9000/9000\u001b[0m \u001b[32m━━━━━━━━━━━━━━━━━━━━\u001b[0m\u001b[37m\u001b[0m \u001b[1m104s\u001b[0m 11ms/step - accuracy: 0.8542 - loss: 0.3317 - val_accuracy: 0.8253 - val_loss: 0.3953\n",
      "Epoch 5/5\n",
      "\u001b[1m9000/9000\u001b[0m \u001b[32m━━━━━━━━━━━━━━━━━━━━\u001b[0m\u001b[37m\u001b[0m \u001b[1m104s\u001b[0m 12ms/step - accuracy: 0.8647 - loss: 0.3101 - val_accuracy: 0.8228 - val_loss: 0.4089\n"
     ]
    }
   ],
   "source": [
    "history = model.fit(X_train_padded, y_train,\n",
    "                    epochs=5,\n",
    "                    batch_size=128,\n",
    "                   validation_split=0.1,\n",
    "                   verbose = 1)"
   ]
  },
  {
   "cell_type": "markdown",
   "id": "f032c9cd",
   "metadata": {
    "papermill": {
     "duration": 0.628763,
     "end_time": "2025-08-27T04:01:53.823350",
     "exception": false,
     "start_time": "2025-08-27T04:01:53.194587",
     "status": "completed"
    },
    "tags": []
   },
   "source": [
    "## Evaluate Bidirectional LSTM"
   ]
  },
  {
   "cell_type": "code",
   "execution_count": 39,
   "id": "cbdedfc9",
   "metadata": {
    "execution": {
     "iopub.execute_input": "2025-08-27T04:01:55.148399Z",
     "iopub.status.busy": "2025-08-27T04:01:55.148073Z",
     "iopub.status.idle": "2025-08-27T04:01:55.471764Z",
     "shell.execute_reply": "2025-08-27T04:01:55.470920Z"
    },
    "papermill": {
     "duration": 0.954131,
     "end_time": "2025-08-27T04:01:55.473494",
     "exception": false,
     "start_time": "2025-08-27T04:01:54.519363",
     "status": "completed"
    },
    "tags": []
   },
   "outputs": [
    {
     "data": {
      "image/png": "[encoded data removed]",
      "text/plain": [
       "<Figure size 640x480 with 1 Axes>"
      ]
     },
     "metadata": {},
     "output_type": "display_data"
    },
    {
     "data": {
      "image/png": "[encoded data removed]",
      "text/plain": [
       "<Figure size 640x480 with 1 Axes>"
      ]
     },
     "metadata": {},
     "output_type": "display_data"
    }
   ],
   "source": [
    "plt.plot(history.history['loss'], label='train_loss')\n",
    "plt.plot(history.history['val_loss'], label='val_loss')\n",
    "plt.legend()\n",
    "plt.show()\n",
    "\n",
    "plt.plot(history.history['accuracy'], label='train_acc')\n",
    "plt.plot(history.history['val_accuracy'], label='val_acc')\n",
    "plt.legend()\n",
    "plt.show()"
   ]
  },
  {
   "cell_type": "markdown",
   "id": "05f555da",
   "metadata": {
    "papermill": {
     "duration": 0.685496,
     "end_time": "2025-08-27T04:01:56.836093",
     "exception": false,
     "start_time": "2025-08-27T04:01:56.150597",
     "status": "completed"
    },
    "tags": []
   },
   "source": [
    "From the loss curves, it is clear that the model starts to overfit after just ~3–5 epochs. While the training loss decreases consistently, the validation loss increases, showing that the model memorizes the training data rather than generalizing."
   ]
  },
  {
   "cell_type": "code",
   "execution_count": 40,
   "id": "d50d946e",
   "metadata": {
    "execution": {
     "iopub.execute_input": "2025-08-27T04:01:58.085938Z",
     "iopub.status.busy": "2025-08-27T04:01:58.085074Z",
     "iopub.status.idle": "2025-08-27T04:02:43.650329Z",
     "shell.execute_reply": "2025-08-27T04:02:43.649454Z"
    },
    "papermill": {
     "duration": 46.890892,
     "end_time": "2025-08-27T04:02:44.347702",
     "exception": false,
     "start_time": "2025-08-27T04:01:57.456810",
     "status": "completed"
    },
    "tags": []
   },
   "outputs": [
    {
     "name": "stdout",
     "output_type": "stream",
     "text": [
      "The loss is:  0.4080505669116974\n",
      "The accuracy is:  0.8212437629699707\n"
     ]
    }
   ],
   "source": [
    "loss, accuracy = model.evaluate(X_test_padded, y_test, verbose=0)\n",
    "print(\"The loss is: \", loss)\n",
    "print(\"The accuracy is: \", accuracy)"
   ]
  },
  {
   "cell_type": "markdown",
   "id": "905493bd",
   "metadata": {
    "papermill": {
     "duration": 0.676713,
     "end_time": "2025-08-27T04:02:45.639649",
     "exception": false,
     "start_time": "2025-08-27T04:02:44.962936",
     "status": "completed"
    },
    "tags": []
   },
   "source": [
    "### Bidirectional LSTM Results\n",
    "The Bidirectional LSTM model achieved a loss of **0.4124** and an accuracy of **82.1%**, which is a clear improvement compared to the rule-based VADER approach. This shows that the Bidirectional LSTM is able to capture more nuanced sentiment patterns in the data than lexicon-based methods. However, while the results are promising."
   ]
  }
 ],
 "metadata": {
  "kaggle": {
   "accelerator": "gpu",
   "dataSources": [
    {
     "datasetId": 2477,
     "sourceId": 4140,
     "sourceType": "datasetVersion"
    }
   ],
   "dockerImageVersionId": 31089,
   "isGpuEnabled": true,
   "isInternetEnabled": true,
   "language": "python",
   "sourceType": "notebook"
  },
  "kernelspec": {
   "display_name": "Python 3",
   "language": "python",
   "name": "python3"
  },
  "language_info": {
   "codemirror_mode": {
    "name": "ipython",
    "version": 3
   },
   "file_extension": ".py",
   "mimetype": "text/x-python",
   "name": "python",
   "nbconvert_exporter": "python",
   "pygments_lexer": "ipython3",
   "version": "3.11.13"
  },
  "papermill": {
   "default_parameters": {},
   "duration": 995.094918,
   "end_time": "2025-08-27T04:02:49.055569",
   "environment_variables": {},
   "exception": null,
   "input_path": "__notebook__.ipynb",
   "output_path": "__notebook__.ipynb",
   "parameters": {},
   "start_time": "2025-08-27T03:46:13.960651",
   "version": "2.6.0"
  }
 },
 "nbformat": 4,
 "nbformat_minor": 5
}
